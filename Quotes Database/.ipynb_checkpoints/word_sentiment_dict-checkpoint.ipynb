{
 "cells": [
  {
   "cell_type": "code",
   "execution_count": 1,
   "metadata": {
    "collapsed": true
   },
   "outputs": [],
   "source": [
    "import numpy as np \n",
    "import pandas as pd\n",
    "import pickle"
   ]
  },
  {
   "cell_type": "markdown",
   "metadata": {},
   "source": [
    "# Read the Data"
   ]
  },
  {
   "cell_type": "markdown",
   "metadata": {},
   "source": [
    "#### The sentiment keyword data"
   ]
  },
  {
   "cell_type": "code",
   "execution_count": 2,
   "metadata": {
    "scrolled": false
   },
   "outputs": [
    {
     "data": {
      "text/html": [
       "<div>\n",
       "<style>\n",
       "    .dataframe thead tr:only-child th {\n",
       "        text-align: right;\n",
       "    }\n",
       "\n",
       "    .dataframe thead th {\n",
       "        text-align: left;\n",
       "    }\n",
       "\n",
       "    .dataframe tbody tr th {\n",
       "        vertical-align: top;\n",
       "    }\n",
       "</style>\n",
       "<table border=\"1\" class=\"dataframe\">\n",
       "  <thead>\n",
       "    <tr style=\"text-align: right;\">\n",
       "      <th></th>\n",
       "      <th>word</th>\n",
       "      <th>category</th>\n",
       "      <th>score</th>\n",
       "    </tr>\n",
       "  </thead>\n",
       "  <tbody>\n",
       "    <tr>\n",
       "      <th>0</th>\n",
       "      <td>aback</td>\n",
       "      <td>anticipation</td>\n",
       "      <td>0</td>\n",
       "    </tr>\n",
       "    <tr>\n",
       "      <th>1</th>\n",
       "      <td>aback</td>\n",
       "      <td>disgust</td>\n",
       "      <td>0</td>\n",
       "    </tr>\n",
       "    <tr>\n",
       "      <th>2</th>\n",
       "      <td>aback</td>\n",
       "      <td>anger</td>\n",
       "      <td>0</td>\n",
       "    </tr>\n",
       "    <tr>\n",
       "      <th>3</th>\n",
       "      <td>aback</td>\n",
       "      <td>fear</td>\n",
       "      <td>0</td>\n",
       "    </tr>\n",
       "    <tr>\n",
       "      <th>4</th>\n",
       "      <td>aback</td>\n",
       "      <td>joy</td>\n",
       "      <td>0</td>\n",
       "    </tr>\n",
       "  </tbody>\n",
       "</table>\n",
       "</div>"
      ],
      "text/plain": [
       "    word      category  score\n",
       "0  aback  anticipation      0\n",
       "1  aback       disgust      0\n",
       "2  aback         anger      0\n",
       "3  aback          fear      0\n",
       "4  aback           joy      0"
      ]
     },
     "execution_count": 2,
     "metadata": {},
     "output_type": "execute_result"
    }
   ],
   "source": [
    "f = pd.read_csv('word_sentiment.csv')\n",
    "f[0:5]"
   ]
  },
  {
   "cell_type": "code",
   "execution_count": 3,
   "metadata": {},
   "outputs": [
    {
     "name": "stdout",
     "output_type": "stream",
     "text": [
      "Total number of records: 141820\n"
     ]
    }
   ],
   "source": [
    "print('Total number of records: ' + str(len(f)))"
   ]
  },
  {
   "cell_type": "markdown",
   "metadata": {},
   "source": [
    "#### The Sentiment-emotion data"
   ]
  },
  {
   "cell_type": "code",
   "execution_count": 4,
   "metadata": {},
   "outputs": [
    {
     "data": {
      "text/html": [
       "<div>\n",
       "<style>\n",
       "    .dataframe thead tr:only-child th {\n",
       "        text-align: right;\n",
       "    }\n",
       "\n",
       "    .dataframe thead th {\n",
       "        text-align: left;\n",
       "    }\n",
       "\n",
       "    .dataframe tbody tr th {\n",
       "        vertical-align: top;\n",
       "    }\n",
       "</style>\n",
       "<table border=\"1\" class=\"dataframe\">\n",
       "  <thead>\n",
       "    <tr style=\"text-align: right;\">\n",
       "      <th></th>\n",
       "      <th>sentiment</th>\n",
       "      <th>emotion</th>\n",
       "    </tr>\n",
       "  </thead>\n",
       "  <tbody>\n",
       "    <tr>\n",
       "      <th>0</th>\n",
       "      <td>anger</td>\n",
       "      <td>anger</td>\n",
       "    </tr>\n",
       "    <tr>\n",
       "      <th>1</th>\n",
       "      <td>positive</td>\n",
       "      <td>happiness</td>\n",
       "    </tr>\n",
       "    <tr>\n",
       "      <th>2</th>\n",
       "      <td>positive</td>\n",
       "      <td>neutral</td>\n",
       "    </tr>\n",
       "  </tbody>\n",
       "</table>\n",
       "</div>"
      ],
      "text/plain": [
       "  sentiment    emotion\n",
       "0     anger      anger\n",
       "1  positive  happiness\n",
       "2  positive    neutral"
      ]
     },
     "execution_count": 4,
     "metadata": {},
     "output_type": "execute_result"
    }
   ],
   "source": [
    "s2e = pd.read_csv('sentiment2emotion.txt')\n",
    "s2e[0:3]"
   ]
  },
  {
   "cell_type": "markdown",
   "metadata": {},
   "source": [
    "# Create Dictionary"
   ]
  },
  {
   "cell_type": "markdown",
   "metadata": {},
   "source": [
    "## Record all the Words"
   ]
  },
  {
   "cell_type": "code",
   "execution_count": 5,
   "metadata": {},
   "outputs": [],
   "source": [
    "words = []\n",
    "for i in range(len(f)):\n",
    "    if f['word'][i] not in words:\n",
    "        words.append(f['word'][i])"
   ]
  },
  {
   "cell_type": "code",
   "execution_count": 6,
   "metadata": {},
   "outputs": [
    {
     "name": "stdout",
     "output_type": "stream",
     "text": [
      "Example of Words: ['aback', 'abacus']\n",
      "Total number of Words: 14182\n"
     ]
    }
   ],
   "source": [
    "print('Example of Words: ' + str(words[0:2]))\n",
    "print('Total number of Words: ' + str(len(words)))"
   ]
  },
  {
   "cell_type": "markdown",
   "metadata": {},
   "source": [
    "## Record all the Sentiments"
   ]
  },
  {
   "cell_type": "code",
   "execution_count": 7,
   "metadata": {
    "collapsed": true
   },
   "outputs": [],
   "source": [
    "sentiments = []\n",
    "for i in range(len(f)):\n",
    "    if f['category'][i] not in sentiments:\n",
    "        sentiments.append(f['category'][i])"
   ]
  },
  {
   "cell_type": "code",
   "execution_count": 8,
   "metadata": {},
   "outputs": [
    {
     "name": "stdout",
     "output_type": "stream",
     "text": [
      "['anticipation', 'disgust', 'anger', 'fear', 'joy', 'negative', 'positive', 'sadness', 'surprise', 'trust']\n"
     ]
    }
   ],
   "source": [
    "print(sentiments)"
   ]
  },
  {
   "cell_type": "markdown",
   "metadata": {},
   "source": [
    "## Record all the Emotions"
   ]
  },
  {
   "cell_type": "code",
   "execution_count": 9,
   "metadata": {
    "collapsed": true
   },
   "outputs": [],
   "source": [
    "emotions = []\n",
    "for i in range(len(s2e)):\n",
    "    if s2e['emotion'][i] not in emotions:\n",
    "        emotions.append(s2e['emotion'][i])"
   ]
  },
  {
   "cell_type": "code",
   "execution_count": 10,
   "metadata": {},
   "outputs": [
    {
     "name": "stdout",
     "output_type": "stream",
     "text": [
      "['anger', 'happiness', 'neutral', 'neutral ', 'fear', 'contempt', 'disgust ', 'sadness ', 'surprise']\n"
     ]
    }
   ],
   "source": [
    "print(emotions)"
   ]
  },
  {
   "cell_type": "markdown",
   "metadata": {},
   "source": [
    "## Record the Sentiment of Words\n",
    "With `word2sentiment`, we can find all the specified sentiments of a given word"
   ]
  },
  {
   "cell_type": "code",
   "execution_count": 11,
   "metadata": {},
   "outputs": [],
   "source": [
    "word2sentiment = {f['word'][i]:f['category'][i] for i in range(len(f)) if f['score'][i] == 1}"
   ]
  },
  {
   "cell_type": "code",
   "execution_count": 12,
   "metadata": {},
   "outputs": [
    {
     "name": "stdout",
     "output_type": "stream",
     "text": [
      "trust\n"
     ]
    }
   ],
   "source": [
    "print(word2sentiment['abacus'])"
   ]
  },
  {
   "cell_type": "markdown",
   "metadata": {},
   "source": [
    "## Record the Words under each Sentiment"
   ]
  },
  {
   "cell_type": "code",
   "execution_count": 13,
   "metadata": {},
   "outputs": [
    {
     "name": "stdout",
     "output_type": "stream",
     "text": [
      "10\n"
     ]
    }
   ],
   "source": [
    "sentiment2words = {sentiments[i]:[] for i in range(len(sentiments))}\n",
    "print(len(sentiment2words))"
   ]
  },
  {
   "cell_type": "code",
   "execution_count": 14,
   "metadata": {},
   "outputs": [
    {
     "name": "stdout",
     "output_type": "stream",
     "text": [
      "14182\n"
     ]
    }
   ],
   "source": [
    "word2sentiments = {words[i]:[] for i in range(len(words))}\n",
    "print(len(word2sentiments))"
   ]
  },
  {
   "cell_type": "code",
   "execution_count": 15,
   "metadata": {},
   "outputs": [],
   "source": [
    "for i in range(len(f)):\n",
    "    if f['score'][i]:\n",
    "        word2sentiments[f['word'][i]].append(f['category'][i])\n",
    "        sentiment2words[f['category'][i]].append(f['word'][i])"
   ]
  },
  {
   "cell_type": "code",
   "execution_count": 16,
   "metadata": {},
   "outputs": [
    {
     "name": "stdout",
     "output_type": "stream",
     "text": [
      "['anger', 'negative', 'sadness']\n"
     ]
    }
   ],
   "source": [
    "print(word2sentiments['humiliate'])"
   ]
  },
  {
   "cell_type": "code",
   "execution_count": 17,
   "metadata": {},
   "outputs": [
    {
     "name": "stdout",
     "output_type": "stream",
     "text": [
      "['abandoned', 'abandonment', 'abhor']\n"
     ]
    }
   ],
   "source": [
    "print(sentiment2words['anger'][0:3])"
   ]
  },
  {
   "cell_type": "markdown",
   "metadata": {},
   "source": [
    "## Record the Sentiment under each Emotion"
   ]
  },
  {
   "cell_type": "code",
   "execution_count": 18,
   "metadata": {},
   "outputs": [],
   "source": [
    "emotion2sentiments = {emotions[i]:[] for i in range(len(emotions))}\n",
    "for i in range(len(s2e)):\n",
    "    emotion2sentiments[s2e['emotion'][i]].append(s2e['sentiment'][i])"
   ]
  },
  {
   "cell_type": "code",
   "execution_count": 19,
   "metadata": {},
   "outputs": [
    {
     "name": "stdout",
     "output_type": "stream",
     "text": [
      "['positive', 'joy']\n"
     ]
    }
   ],
   "source": [
    "print(emotion2sentiments['happiness'])"
   ]
  },
  {
   "cell_type": "markdown",
   "metadata": {},
   "source": [
    "## Record the Emotion under each Sentiment"
   ]
  },
  {
   "cell_type": "code",
   "execution_count": 20,
   "metadata": {},
   "outputs": [],
   "source": [
    "sentiment2emotions = {sentiments[i]:[] for i in range(len(sentiments))}\n",
    "for i in range(len(s2e)):\n",
    "    sentiment2emotions[s2e['sentiment'][i]].append(s2e['emotion'][i])"
   ]
  },
  {
   "cell_type": "code",
   "execution_count": 21,
   "metadata": {},
   "outputs": [
    {
     "name": "stdout",
     "output_type": "stream",
     "text": [
      "['neutral ']\n"
     ]
    }
   ],
   "source": [
    "print(sentiment2emotions[word2sentiments['abacus'][0]])"
   ]
  },
  {
   "cell_type": "markdown",
   "metadata": {},
   "source": [
    "## Record the Words under each Emotion"
   ]
  },
  {
   "cell_type": "code",
   "execution_count": 22,
   "metadata": {},
   "outputs": [],
   "source": [
    "words2emotions = {words[i]:[] for i in range(len(words))}\n",
    "for i in range(len(words)):\n",
    "    sentiments_in_word = word2sentiments[words[i]] # a list of sentiments\n",
    "    for j in range(len(sentiments_in_word)):\n",
    "        emotions_in_words = sentiment2emotions[sentiments_in_word[j]] # a list of emotions\n",
    "        for k in range(len(emotions_in_words)):\n",
    "            words2emotions[words[i]].append(emotions_in_words[k])"
   ]
  },
  {
   "cell_type": "code",
   "execution_count": 23,
   "metadata": {},
   "outputs": [
    {
     "name": "stdout",
     "output_type": "stream",
     "text": [
      "['neutral ']\n"
     ]
    }
   ],
   "source": [
    "print(words2emotions['abacus'])"
   ]
  },
  {
   "cell_type": "markdown",
   "metadata": {},
   "source": [
    "## Save the mapping dictionaries"
   ]
  },
  {
   "cell_type": "code",
   "execution_count": 24,
   "metadata": {},
   "outputs": [],
   "source": [
    "with open('mapping_dictionaries.p', 'wb') as outfile:\n",
    "   pickle.dump({\"word2sentiments\":word2sentiments, \"sentiment2words\":sentiment2words,\"emotion2sentiments\":emotion2sentiments,\"sentiment2emotions\":sentiment2emotions,\"words2emotions\":words2emotions,\"words\":words,\"emotions\":emotions}, outfile)"
   ]
  },
  {
   "cell_type": "code",
   "execution_count": 25,
   "metadata": {},
   "outputs": [],
   "source": [
    "with open('mapping_dictionaries.p', 'rb') as infile:\n",
    "    mappings = pickle.load(infile)"
   ]
  },
  {
   "cell_type": "code",
   "execution_count": 26,
   "metadata": {},
   "outputs": [
    {
     "name": "stdout",
     "output_type": "stream",
     "text": [
      "7\n",
      "<class 'dict'>\n",
      "14182\n",
      "<class 'dict'>\n",
      "10\n",
      "<class 'dict'>\n",
      "14182\n",
      "<class 'dict'>\n",
      "14182\n",
      "<class 'list'>\n",
      "9\n",
      "<class 'list'>\n"
     ]
    }
   ],
   "source": [
    "print(len(mappings))\n",
    "print(type(mappings))\n",
    "print(len(mappings['word2sentiments']))\n",
    "print(type(mappings['word2sentiments']))\n",
    "print(len(mappings['sentiment2words']))\n",
    "print(type(mappings['sentiment2words']))\n",
    "print(len(mappings['words2emotions']))\n",
    "print(type(mappings['words2emotions']))\n",
    "print(len(mappings['words']))\n",
    "print(type(mappings['words']))\n",
    "print(len(mappings['emotions']))\n",
    "print(type(mappings['emotions']))"
   ]
  }
 ],
 "metadata": {
  "kernelspec": {
   "display_name": "Python 3",
   "language": "python",
   "name": "python3"
  },
  "language_info": {
   "codemirror_mode": {
    "name": "ipython",
    "version": 3
   },
   "file_extension": ".py",
   "mimetype": "text/x-python",
   "name": "python",
   "nbconvert_exporter": "python",
   "pygments_lexer": "ipython3",
   "version": "3.5.2"
  },
  "widgets": {
   "state": {},
   "version": "1.1.2"
  }
 },
 "nbformat": 4,
 "nbformat_minor": 2
}
